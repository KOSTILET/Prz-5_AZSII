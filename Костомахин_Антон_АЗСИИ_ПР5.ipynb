{
  "nbformat": 4,
  "nbformat_minor": 0,
  "metadata": {
    "colab": {
      "provenance": [],
      "gpuType": "T4"
    },
    "kernelspec": {
      "name": "python3",
      "display_name": "Python 3"
    },
    "language_info": {
      "name": "python"
    },
    "accelerator": "GPU"
  },
  "cells": [
    {
      "cell_type": "code",
      "execution_count": 10,
      "metadata": {
        "colab": {
          "base_uri": "https://localhost:8080/"
        },
        "id": "IiedQhlsnzhV",
        "outputId": "3c30a32a-650b-4671-8a12-4ab92aa01bcc"
      },
      "outputs": [
        {
          "output_type": "stream",
          "name": "stderr",
          "text": [
            "WARNING:absl:Compiled the loaded model, but the compiled metrics have yet to be built. `model.compile_metrics` will be empty until you train or evaluate the model.\n"
          ]
        },
        {
          "output_type": "stream",
          "name": "stdout",
          "text": [
            "\u001b[1m313/313\u001b[0m \u001b[32m━━━━━━━━━━━━━━━━━━━━\u001b[0m\u001b[37m\u001b[0m \u001b[1m2s\u001b[0m 3ms/step - accuracy: 0.9718 - loss: 0.0973\n",
            "Test accuracy on clean images: 0.9753000140190125\n"
          ]
        }
      ],
      "source": [
        "import tensorflow as tf\n",
        "from tensorflow.keras.datasets import mnist\n",
        "\n",
        "# Загрузка тестовых данных MNIST\n",
        "(_, _), (test_images, test_labels) = mnist.load_data()\n",
        "\n",
        "# Нормализация данных\n",
        "test_images = test_images / 255.0\n",
        "\n",
        "# Преобразование меток в формат one-hot encoding\n",
        "test_labels = tf.keras.utils.to_categorical(test_labels, num_classes=10)\n",
        "\n",
        "# Загрузка обученной модели\n",
        "model = tf.keras.models.load_model('/content/sample_data/mnist_model.h5')\n",
        "\n",
        "# Проверка точности модели на обычных данных\n",
        "test_loss, test_acc = model.evaluate(test_images, test_labels)\n",
        "print(f'Test accuracy on clean images: {test_acc}')\n",
        "\n"
      ]
    },
    {
      "cell_type": "code",
      "source": [
        "!pip install foolbox"
      ],
      "metadata": {
        "colab": {
          "base_uri": "https://localhost:8080/"
        },
        "id": "t4HniYy1n6jb",
        "outputId": "fe6de7b4-feaa-4a2c-ed01-d73cc1856506"
      },
      "execution_count": 11,
      "outputs": [
        {
          "output_type": "stream",
          "name": "stdout",
          "text": [
            "Collecting foolbox\n",
            "  Downloading foolbox-3.3.4-py3-none-any.whl.metadata (7.3 kB)\n",
            "Requirement already satisfied: numpy in /usr/local/lib/python3.10/dist-packages (from foolbox) (1.26.4)\n",
            "Requirement already satisfied: scipy in /usr/local/lib/python3.10/dist-packages (from foolbox) (1.13.1)\n",
            "Requirement already satisfied: setuptools in /usr/local/lib/python3.10/dist-packages (from foolbox) (75.1.0)\n",
            "Collecting eagerpy>=0.30.0 (from foolbox)\n",
            "  Downloading eagerpy-0.30.0-py3-none-any.whl.metadata (5.5 kB)\n",
            "Requirement already satisfied: GitPython>=3.0.7 in /usr/local/lib/python3.10/dist-packages (from foolbox) (3.1.43)\n",
            "Requirement already satisfied: typing-extensions>=3.7.4.1 in /usr/local/lib/python3.10/dist-packages (from foolbox) (4.12.2)\n",
            "Requirement already satisfied: requests>=2.24.0 in /usr/local/lib/python3.10/dist-packages (from foolbox) (2.32.3)\n",
            "Requirement already satisfied: gitdb<5,>=4.0.1 in /usr/local/lib/python3.10/dist-packages (from GitPython>=3.0.7->foolbox) (4.0.11)\n",
            "Requirement already satisfied: charset-normalizer<4,>=2 in /usr/local/lib/python3.10/dist-packages (from requests>=2.24.0->foolbox) (3.4.0)\n",
            "Requirement already satisfied: idna<4,>=2.5 in /usr/local/lib/python3.10/dist-packages (from requests>=2.24.0->foolbox) (3.10)\n",
            "Requirement already satisfied: urllib3<3,>=1.21.1 in /usr/local/lib/python3.10/dist-packages (from requests>=2.24.0->foolbox) (2.2.3)\n",
            "Requirement already satisfied: certifi>=2017.4.17 in /usr/local/lib/python3.10/dist-packages (from requests>=2.24.0->foolbox) (2024.8.30)\n",
            "Requirement already satisfied: smmap<6,>=3.0.1 in /usr/local/lib/python3.10/dist-packages (from gitdb<5,>=4.0.1->GitPython>=3.0.7->foolbox) (5.0.1)\n",
            "Downloading foolbox-3.3.4-py3-none-any.whl (1.7 MB)\n",
            "\u001b[2K   \u001b[90m━━━━━━━━━━━━━━━━━━━━━━━━━━━━━━━━━━━━━━━━\u001b[0m \u001b[32m1.7/1.7 MB\u001b[0m \u001b[31m35.0 MB/s\u001b[0m eta \u001b[36m0:00:00\u001b[0m\n",
            "\u001b[?25hDownloading eagerpy-0.30.0-py3-none-any.whl (31 kB)\n",
            "Installing collected packages: eagerpy, foolbox\n",
            "Successfully installed eagerpy-0.30.0 foolbox-3.3.4\n"
          ]
        }
      ]
    },
    {
      "cell_type": "code",
      "source": [
        "import foolbox as fb\n",
        "import numpy as np\n",
        "# Инициализация Foolbox модели\n",
        "fmodel = fb.TensorFlowModel(model, bounds=(0, 1))\n",
        "# Выбор изображения для атаки (например, пятое изображение из тестового набора)\n",
        "image = tf.convert_to_tensor(test_images[9], dtype=tf.float32)[None, ...]\n",
        "label = np.argmax(test_labels[9])\n",
        "label = tf.convert_to_tensor(label, dtype=tf.int64)\n",
        "# Выполнение атаки\n",
        "attack = fb.attacks.L2DeepFoolAttack(steps=5, overshoot=0.01)\n",
        "advs, _, success = attack(fmodel, image, label[None], epsilons=0.001)  # Оборачиваем метку в тензор с размерностью (1,)"
      ],
      "metadata": {
        "id": "_fGuvLIVn6eG"
      },
      "execution_count": 21,
      "outputs": []
    },
    {
      "cell_type": "code",
      "source": [
        "import matplotlib.pyplot as plt\n",
        "# Вывод результатов\n",
        "plt.figure(figsize=(10, 5))\n",
        "plt.subplot(1, 2, 1)\n",
        "plt.title(\"Оригинальное изображение\")\n",
        "plt.imshow(image[0].numpy(), cmap=\"gray\")\n",
        "plt.axis('off')\n",
        "\n",
        "plt.subplot(1, 2, 2)\n",
        "plt.title(\"Противоречивое изображение (DeepFool)\")\n",
        "plt.imshow(advs[0].numpy(), cmap=\"gray\")  # Предполагается, что advs имеет правильную форму\n",
        "plt.axis('off')\n",
        "\n",
        "plt.show()"
      ],
      "metadata": {
        "colab": {
          "base_uri": "https://localhost:8080/",
          "height": 326
        },
        "id": "-9XpoikIn7HU",
        "outputId": "d424203b-21d6-4452-921c-65dae1099cea"
      },
      "execution_count": 22,
      "outputs": [
        {
          "output_type": "display_data",
          "data": {
            "text/plain": [
              "<Figure size 1000x500 with 2 Axes>"
            ],
            "image/png": "[encoded data removed]"
          },
          "metadata": {}
        }
      ]
    },
    {
      "cell_type": "code",
      "source": [
        "adversarial_images = []\n",
        "# Обработка изображений\n",
        "for i in range(len(test_images) // 10): # ограничил выборку для ускорения выполнения\n",
        "    image = tf.convert_to_tensor(test_images[i], dtype=tf.float32)[None, ...]\n",
        "    label = np.argmax(test_labels[i])\n",
        "    label = tf.convert_to_tensor(label, dtype=tf.int64)\n",
        "    # Атака на изображение\n",
        "    advs, _, success = attack(fmodel, image, label[None], epsilons=0.01)\n",
        "    adversarial_images.append(advs)\n",
        "# Конвертация списка в массив с правильной формой\n",
        "adversarial_images = tf.concat(adversarial_images, axis=0)\n",
        "# Убедитесь, что test_labels имеют соответствующее количество меток\n",
        "adversarial_loss, adversarial_acc = model.evaluate(adversarial_images, test_labels[:1000])\n",
        "print(f'Accuracy on adversarial examples (CW attack): {adversarial_acc}')"
      ],
      "metadata": {
        "colab": {
          "base_uri": "https://localhost:8080/"
        },
        "id": "z6J_P_f4tI5w",
        "outputId": "09139ea0-95d4-4e83-f5c6-1db93a2600cd"
      },
      "execution_count": 23,
      "outputs": [
        {
          "output_type": "stream",
          "name": "stdout",
          "text": [
            "\u001b[1m32/32\u001b[0m \u001b[32m━━━━━━━━━━━━━━━━━━━━\u001b[0m\u001b[37m\u001b[0m \u001b[1m0s\u001b[0m 15ms/step - accuracy: 0.0201 - loss: 69.4007\n",
            "Accuracy on adversarial examples (CW attack): 0.027000000700354576\n"
          ]
        }
      ]
    }
  ]
}
